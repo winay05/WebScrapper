{
 "cells": [
  {
   "cell_type": "markdown",
   "metadata": {},
   "source": [
    "## Scrape provided url(MoneyControl) for real-time stocks data of the NIFTY 50.\n"
   ]
  },
  {
   "cell_type": "markdown",
   "metadata": {},
   "source": [
    "### Run the script for 20-30 mins, alert when the difference between the %chg at two fixed time instances (2 minute or so) of the respective company crosses 2 percent."
   ]
  },
  {
   "cell_type": "code",
   "execution_count": null,
   "metadata": {},
   "outputs": [],
   "source": [
    "import pandas as pd\n",
    "import time\n",
    "import os\n",
    "url='https://www.moneycontrol.com/stocks/marketstats/indexcomp.php?optex=NSE&opttopic=indexcomp&index=9'\n",
    "#each loop waits for 30s to referesh and the data, so efefctively the loop need to execute for about 60 times\n",
    "\n",
    "def check_change(df):\n",
    "    lst=df[abs(df['%Chg'])>2].index\n",
    "    for i in lst:\n",
    "        print(\"ALERT: \"+i+\" stock price changed by more than 2%\")\n",
    "        \n",
    "\n",
    "df_prev = pd.read_html(url, attrs={'class': 'tbldata14 bdrtpg'})[0]\n",
    "df_prev[\"Company Name\"] = df_prev[\"Company Name\"].str.replace(\"  Add to Watchlist  Add to Portfolio\", \"\")\n",
    "df_prev.set_index('Company Name',inplace=True)\n",
    "df_prev=df[['%Chg']] #we only need to monitor the %chg column\n",
    "\n",
    "    \n",
    "count=0\n",
    "for i in range(1):\n",
    "\n",
    "    df = pd.read_html(url, attrs={'class': 'tbldata14 bdrtpg'})[0]\n",
    "    df[\"Company Name\"] = df[\"Company Name\"].str.replace(\"  Add to Watchlist  Add to Portfolio\", \"\")\n",
    "    df.set_index('Company Name',inplace=True)\n",
    "    print(df)\n",
    "    df=df[['%Chg']] #we only need to monitor the %chg column\n",
    "    count+=1\n",
    "    \n",
    "    #every 4 times the loop runs, will take about 2 mins\n",
    "    if count==4:\n",
    "        check_change(df-df_prev)\n",
    "        count=0\n",
    "    time.sleep(30)\n",
    "    os.system('cls')"
   ]
  },
  {
   "cell_type": "code",
   "execution_count": null,
   "metadata": {},
   "outputs": [],
   "source": []
  }
 ],
 "metadata": {
  "kernelspec": {
   "display_name": "Python 3",
   "language": "python",
   "name": "python3"
  },
  "language_info": {
   "codemirror_mode": {
    "name": "ipython",
    "version": 3
   },
   "file_extension": ".py",
   "mimetype": "text/x-python",
   "name": "python",
   "nbconvert_exporter": "python",
   "pygments_lexer": "ipython3",
   "version": "3.8.2"
  }
 },
 "nbformat": 4,
 "nbformat_minor": 4
}
