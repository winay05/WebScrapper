{
 "cells": [
  {
   "cell_type": "markdown",
   "metadata": {},
   "source": [
    "# Scarping Google News\n",
    "### Submitted by Vinay"
   ]
  },
  {
   "cell_type": "markdown",
   "metadata": {},
   "source": [
    "### make a Google News scrapper to get the main headline, the date, subheading(if any), generate a summary of the news article, extract main keywords from the news article which might be used to search for the article. "
   ]
  },
  {
   "cell_type": "code",
   "execution_count": null,
   "metadata": {},
   "outputs": [],
   "source": [
    "import bs4\n",
    "from bs4 import BeautifulSoup as soup\n",
    "from urllib.request import urlopen\n",
    "import pandas as pd\n",
    "from newspaper import Article\n",
    "#provided google news url (google business in this case)\n",
    "news_url=\"https://news.google.com/topics/CAAqJggKIiBDQkFTRWdvSUwyMHZNRGx6TVdZU0FtVnVHZ0pKVGlnQVAB?hl=en-IN&gl=IN&ceid=IN%3Aen\"\n",
    "Client=urlopen(news_url)\n",
    "xml_page=Client.read().decode('utf-8', 'ignore')\n",
    "Client.close()\n",
    "\n",
    "soup_page=soup(xml_page,\"html.parser\")"
   ]
  },
  {
   "cell_type": "code",
   "execution_count": null,
   "metadata": {},
   "outputs": [],
   "source": [
    "#getting the entire container for news articles\n",
    "tag=soup_page.find(\"div\",{\"class\":\"lBwEZb BL5WZb GndZbb\"})"
   ]
  },
  {
   "cell_type": "code",
   "execution_count": null,
   "metadata": {},
   "outputs": [],
   "source": [
    "#getting the news\n",
    "x=tag.findAll([\"div\",{\"class\":\"NiLAwe y6IFtc R7GTQ keNKEd j7vNaf nID9nc\"},{\"class\":\"xrnccd F6Welf R7GTQ keNKEd j7vNaf\"}],recursive=False)\n"
   ]
  },
  {
   "cell_type": "code",
   "execution_count": null,
   "metadata": {},
   "outputs": [],
   "source": [
    "main_news=pd.DataFrame(columns=['Heading','SubHeading','Time','Summary','URL','Keywords'])"
   ]
  },
  {
   "cell_type": "code",
   "execution_count": null,
   "metadata": {
    "scrolled": true
   },
   "outputs": [],
   "source": [
    "t=0\n",
    "for i in x:\n",
    "    \n",
    "    \n",
    "    link=i.a.get('href')\n",
    "    link='https://news.google.com'+link[1:]\n",
    "    \n",
    "    if(i.div.h4 is None):\n",
    "        subtitle=''\n",
    "    else:\n",
    "        subtitle=i.div.h4.get_text()\n",
    "    \n",
    "    #using the newspaper curating library\n",
    "    article = Article(link, language=\"en\")\n",
    "    #To download the article \n",
    "    article.download() \n",
    "    #To parse the article \n",
    "    article.parse() \n",
    "    #To perform natural language processing ie..nlp \n",
    "    article.nlp() \n",
    "    \n",
    "    Heading=article.title\n",
    "    \n",
    "    #To extract title \n",
    "    print(str(t+1)+\".Heading:\") \n",
    "    print(Heading,'\\n') \n",
    "    \n",
    "    Date1=article.publish_date\n",
    "    #To extract date \n",
    "    print(\"date:\") \n",
    "    print(Date1,'\\n')   \n",
    "   \n",
    "    \n",
    "    print(\"Sub-heading:\")\n",
    "    print(subtitle,'\\n')\n",
    "    \n",
    "    \n",
    "    Summary=article.summary\n",
    "    #To extract summary \n",
    "    print(\"Summary:\") \n",
    "    print(Summary,'\\n') \n",
    "    \n",
    "    Keywords=article.keywords\n",
    "    #to extract the keywords\n",
    "    print(Keywords,'\\n')\n",
    "    \n",
    "    #link\n",
    "    print(\"Link:\",link,'\\n')\n",
    "    main_news.loc[t]=[Heading,subtitle,Date1,Summary,link,Keywords]\n",
    "    t+=1\n",
    "    "
   ]
  },
  {
   "cell_type": "code",
   "execution_count": null,
   "metadata": {},
   "outputs": [],
   "source": [
    "#main_news stores all the news article details\n",
    "main_news.head()"
   ]
  }
 ],
 "metadata": {
  "kernelspec": {
   "display_name": "Python 3",
   "language": "python",
   "name": "python3"
  },
  "language_info": {
   "codemirror_mode": {
    "name": "ipython",
    "version": 3
   },
   "file_extension": ".py",
   "mimetype": "text/x-python",
   "name": "python",
   "nbconvert_exporter": "python",
   "pygments_lexer": "ipython3",
   "version": "3.8.2"
  }
 },
 "nbformat": 4,
 "nbformat_minor": 4
}
